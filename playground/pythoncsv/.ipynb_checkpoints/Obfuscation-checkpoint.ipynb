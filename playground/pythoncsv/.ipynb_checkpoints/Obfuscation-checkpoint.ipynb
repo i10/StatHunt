{
 "cells": [
  {
   "cell_type": "code",
   "execution_count": 2,
   "metadata": {},
   "outputs": [],
   "source": [
    "import csv\n",
    "import math\n",
    "import pandas as pd\n",
    "from scipy.stats import poisson\n",
    "from scipy.stats import laplace\n",
    "from scipy.stats import gennorm\n",
    "from diffprivlib.mechanisms import Laplace\n",
    "import matplotlib.pyplot as plt"
   ]
  },
  {
   "cell_type": "code",
   "execution_count": 3,
   "metadata": {},
   "outputs": [],
   "source": [
    "df = pd.read_csv('./Sample Data/R01E01D01.csv')"
   ]
  },
  {
   "cell_type": "code",
   "execution_count": 4,
   "metadata": {},
   "outputs": [
    {
     "name": "stdout",
     "output_type": "stream",
     "text": [
      "Index(['ID', 'Form', '1st reduction', '2nd reduction', 'trial', 'duration',\n",
      "       '3D deviation', 'XY deviation', 'XY directed', 'Z deviation',\n",
      "       'Z directed', 'Z std deviation '],\n",
      "      dtype='object')\n"
     ]
    }
   ],
   "source": [
    "def privatise(column):\n",
    "    laplace = Laplace()\n",
    "    if df[column].dtype == 'int64':\n",
    "        laplace.set_epsilon(1)\n",
    "        laplace.set_sensitivity(df[column].mean()*0.1)\n",
    "        df[column] = df[column].apply(laplace.randomise).round(0).astype(int)\n",
    "    elif df[column].dtype == 'object':\n",
    "        vals = df[column].unique()\n",
    "        mapping = dict([(y,x) for x,y in enumerate(sorted(set(vals)))]) \n",
    "        rev_map = {k: v for k, v in enumerate(mapping)}\n",
    "        print(rev_map)\n",
    "        df[column] = df[column].map(mapping)\n",
    "        laplace.set_epsilon(1)\n",
    "        laplace.set_sensitivity(df[column].mean()*0.5)\n",
    "        df[column] = df[column].apply(laplace.randomise).round(0).astype(int)\n",
    "        print(rev_map)\n",
    "        df[column] = df[column].map(rev_map)\n",
    "    elif df[column].dtype == 'float64':\n",
    "        laplace.set_epsilon(1)\n",
    "        laplace.set_sensitivity(df[column].mean()*0.1)\n",
    "        df[column] = df[column].apply(laplace.randomise)\n",
    "    else:\n",
    "        print(column + ' Datatype not obfuscatable')\n",
    "\n",
    "def get_columns():\n",
    "    printdf.columns)\n",
    "\n",
    "\n",
    "get_columns()"
   ]
  },
  {
   "cell_type": "code",
   "execution_count": 5,
   "metadata": {},
   "outputs": [
    {
     "name": "stdout",
     "output_type": "stream",
     "text": [
      "Index(['ID', 'Form', '1st reduction', '2nd reduction', 'trial', 'duration',\n",
      "       '3D deviation', 'XY deviation', 'XY directed', 'Z deviation',\n",
      "       'Z directed', 'Z std deviation '],\n",
      "      dtype='object')\n"
     ]
    },
    {
     "ename": "TypeError",
     "evalue": "argument of type 'NoneType' is not iterable",
     "output_type": "error",
     "traceback": [
      "\u001b[0;31m---------------------------------------------------------------------------\u001b[0m",
      "\u001b[0;31mTypeError\u001b[0m                                 Traceback (most recent call last)",
      "\u001b[0;32m<ipython-input-5-c76fc431c4e6>\u001b[0m in \u001b[0;36m<module>\u001b[0;34m\u001b[0m\n\u001b[0;32m----> 1\u001b[0;31m \u001b[0mprint\u001b[0m\u001b[0;34m(\u001b[0m\u001b[0;34m'in'\u001b[0m \u001b[0;32min\u001b[0m \u001b[0mget_columns\u001b[0m\u001b[0;34m(\u001b[0m\u001b[0;34m)\u001b[0m\u001b[0;34m)\u001b[0m\u001b[0;34m\u001b[0m\u001b[0;34m\u001b[0m\u001b[0m\n\u001b[0m",
      "\u001b[0;31mTypeError\u001b[0m: argument of type 'NoneType' is not iterable"
     ]
    }
   ],
   "source": [
    "print('in' in get_columns())"
   ]
  },
  {
   "cell_type": "code",
   "execution_count": null,
   "metadata": {},
   "outputs": [],
   "source": []
  }
 ],
 "metadata": {
  "kernelspec": {
   "display_name": "Python 3",
   "language": "python",
   "name": "python3"
  },
  "language_info": {
   "codemirror_mode": {
    "name": "ipython",
    "version": 3
   },
   "file_extension": ".py",
   "mimetype": "text/x-python",
   "name": "python",
   "nbconvert_exporter": "python",
   "pygments_lexer": "ipython3",
   "version": "3.7.2"
  }
 },
 "nbformat": 4,
 "nbformat_minor": 2
}
