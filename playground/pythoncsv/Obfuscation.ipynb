{
 "cells": [
  {
   "cell_type": "code",
   "execution_count": 3,
   "metadata": {},
   "outputs": [],
   "source": [
    "import csv\n",
    "import math\n",
    "import pandas as pd\n",
    "from scipy.stats import poisson\n",
    "from scipy.stats import laplace\n",
    "from scipy.stats import gennorm\n",
    "from diffprivlib.mechanisms import Laplace\n",
    "import matplotlib.pyplot as plt"
   ]
  },
  {
   "cell_type": "code",
   "execution_count": 4,
   "metadata": {
    "scrolled": true
   },
   "outputs": [
    {
     "name": "stdout",
     "output_type": "stream",
     "text": [
      "Index(['ID', 'Form', '1st reduction', '2nd reduction', 'trial', 'duration',\n",
      "       '3D deviation', 'XY deviation', 'XY directed', 'Z deviation',\n",
      "       'Z directed', 'Z std deviation '],\n",
      "      dtype='object')\n"
     ]
    }
   ],
   "source": [
    "df = pd.read_csv('./Sample Data/R01E01D01.csv')\n",
    "print(df.columns)"
   ]
  },
  {
   "cell_type": "code",
   "execution_count": 8,
   "metadata": {},
   "outputs": [
    {
     "name": "stdout",
     "output_type": "stream",
     "text": [
      "{'values': [1, 2, 3, 4, 5, 6, 7, 9, 10, 11, 13, 14, 15, 16, 17, 18]}\n"
     ]
    }
   ],
   "source": [
    "if 'ID' in df.columns:\n",
    "    print({'values': df['ID'].unique().tolist()})"
   ]
  },
  {
   "cell_type": "code",
   "execution_count": 39,
   "metadata": {},
   "outputs": [
    {
     "name": "stdout",
     "output_type": "stream",
     "text": [
      "   ID   Form 1st reduction 2nd reduction  trial     duration  3D deviation  \\\n",
      "0   1  Green       virtual          line      1  6291.260010     10.877423   \n",
      "1   1  Green       virtual          line      2  4419.739990     13.996290   \n",
      "2   1  Green       virtual          line      3  7070.550049     34.647458   \n",
      "3   1  Green       virtual          line      4  5209.300049     11.654907   \n",
      "4   1  Green       virtual          line      5  4249.080078     12.191439   \n",
      "\n",
      "   XY deviation  XY directed  Z deviation  Z directed  Z std deviation   \n",
      "0      5.394565     1.004740     8.196941    8.142806          7.473217  \n",
      "1      9.036742    -3.674751     9.658320    9.306156          7.571380  \n",
      "2     27.119768    18.843695    16.397204   15.888222         11.080598  \n",
      "3      8.650802    -7.229488     7.001513    2.840199          3.956877  \n",
      "4      9.049952    -6.689876     7.569806    2.057051          4.729872  \n"
     ]
    }
   ],
   "source": [
    "def get_column(column):\n",
    "    if column not in df.columns:\n",
    "        return \"Not a valid column\"\n",
    "    return {column: df[column].unique()}\n",
    "\n",
    "def rewrite_column(column, n_title, values):\n",
    "    global df\n",
    "    old_values = df[column].unique()\n",
    "    mapping = {}\n",
    "    for i in range(len(values)):\n",
    "        mapping[old_values[i]] = values[i]\n",
    "    \n",
    "    df[column] = df[column].map(mapping)\n",
    "    df = df.rename(columns={column:n_title})\n",
    "    \n",
    "rewrite_column('', 'Pill', ['Green', 'Blue'])\n",
    "print(df.head())"
   ]
  },
  {
   "cell_type": "code",
   "execution_count": 29,
   "metadata": {},
   "outputs": [],
   "source": [
    "def value_obf(column):\n",
    "    laplace = Laplace()\n",
    "    if df[column].dtype == 'int64':\n",
    "        laplace.set_epsilon(1)\n",
    "        laplace.set_sensitivity(df[column].mean()*0.1)\n",
    "        df[column] = df[column].apply(laplace.randomise).round(0).astype(int)\n",
    "    elif df[column].dtype == 'object':\n",
    "        vals = df[column].unique()\n",
    "        mapping = dict([(y,x) for x,y in enumerate(sorted(set(vals)))]) \n",
    "        rev_map = {k: v for k, v in enumerate(mapping)}\n",
    "        print(rev_map)\n",
    "        df[column] = df[column].map(mapping)\n",
    "        laplace.set_epsilon(1)\n",
    "        laplace.set_sensitivity(df[column].mean()*0.5)\n",
    "        df[column] = df[column].apply(laplace.randomise).round(0).astype(int)\n",
    "        print(rev_map)\n",
    "        df[column] = df[column].map(rev_map)\n",
    "    elif df[column].dtype == 'float64':\n",
    "        laplace.set_epsilon(1)\n",
    "        laplace.set_sensitivity(df[column].mean()*0.1)\n",
    "        df[column] = df[column].apply(laplace.randomise)\n",
    "    else:\n",
    "        print(column + ' Datatype not obfuscatable')\n"
   ]
  },
  {
   "cell_type": "code",
   "execution_count": null,
   "metadata": {},
   "outputs": [],
   "source": []
  }
 ],
 "metadata": {
  "kernelspec": {
   "display_name": "Python 3",
   "language": "python",
   "name": "python3"
  },
  "language_info": {
   "codemirror_mode": {
    "name": "ipython",
    "version": 3
   },
   "file_extension": ".py",
   "mimetype": "text/x-python",
   "name": "python",
   "nbconvert_exporter": "python",
   "pygments_lexer": "ipython3",
   "version": "3.7.2"
  }
 },
 "nbformat": 4,
 "nbformat_minor": 2
}
