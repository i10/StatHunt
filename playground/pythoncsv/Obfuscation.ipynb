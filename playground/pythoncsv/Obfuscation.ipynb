{
 "cells": [
  {
   "cell_type": "code",
   "execution_count": 6,
   "metadata": {},
   "outputs": [],
   "source": [
    "import csv\n",
    "import math\n",
    "import pandas as pd\n",
    "from scipy.stats import poisson\n",
    "from scipy.stats import laplace\n",
    "from scipy.stats import gennorm\n",
    "from diffprivlib.mechanisms import Laplace\n",
    "import matplotlib.pyplot as plt"
   ]
  },
  {
   "cell_type": "code",
   "execution_count": 11,
   "metadata": {},
   "outputs": [],
   "source": [
    "df = pd.read_csv('./Sample Data/R01E01D01.csv')"
   ]
  },
  {
   "cell_type": "code",
   "execution_count": 12,
   "metadata": {},
   "outputs": [
    {
     "name": "stdout",
     "output_type": "stream",
     "text": [
      "Index(['ID', 'Form', '1st reduction', '2nd reduction', 'trial', 'duration',\n",
      "       '3D deviation', 'XY deviation', 'XY directed', 'Z deviation',\n",
      "       'Z directed', 'Z std deviation '],\n",
      "      dtype='object')\n"
     ]
    }
   ],
   "source": [
    "def privatise(column):\n",
    "    laplace = Laplace()\n",
    "    if df[column].dtype == 'int64':\n",
    "        laplace.set_epsilon(1)\n",
    "        laplace.set_sensitivity(df[column].mean()*0.1)\n",
    "        df[column] = df[column].apply(laplace.randomise).round(0).astype(int)\n",
    "    elif df[column].dtype == 'object':\n",
    "        vals = df[column].unique()\n",
    "        mapping = dict([(y,x) for x,y in enumerate(sorted(set(vals)))]) \n",
    "        rev_map = {k: v for k, v in enumerate(mapping)}\n",
    "        print(rev_map)\n",
    "        df[column] = df[column].map(mapping)\n",
    "        laplace.set_epsilon(1)\n",
    "        laplace.set_sensitivity(df[column].mean()*0.5)\n",
    "        df[column] = df[column].apply(laplace.randomise).round(0).astype(int)\n",
    "        print(rev_map)\n",
    "        df[column] = df[column].map(rev_map)\n",
    "    elif df[column].dtype == 'float64':\n",
    "        laplace.set_epsilon(1)\n",
    "        laplace.set_sensitivity(df[column].mean()*0.1)\n",
    "        df[column] = df[column].apply(laplace.randomise)\n",
    "    else:\n",
    "        print(column + ' Datatype not obfuscatable')\n",
    "\n",
    "def get_columns():\n",
    "    print(df.columns)\n",
    "\n",
    "\n",
    "get_columns()"
   ]
  },
  {
   "cell_type": "code",
   "execution_count": null,
   "metadata": {},
   "outputs": [],
   "source": []
  },
  {
   "cell_type": "code",
   "execution_count": null,
   "metadata": {},
   "outputs": [],
   "source": []
  }
 ],
 "metadata": {
  "kernelspec": {
   "display_name": "Python 3",
   "language": "python",
   "name": "python3"
  },
  "language_info": {
   "codemirror_mode": {
    "name": "ipython",
    "version": 3
   },
   "file_extension": ".py",
   "mimetype": "text/x-python",
   "name": "python",
   "nbconvert_exporter": "python",
   "pygments_lexer": "ipython3",
   "version": "3.7.2"
  }
 },
 "nbformat": 4,
 "nbformat_minor": 2
}
